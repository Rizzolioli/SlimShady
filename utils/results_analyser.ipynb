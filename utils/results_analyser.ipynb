{
 "cells": [
  {
   "cell_type": "markdown",
   "id": "c50a5889",
   "metadata": {},
   "source": [
    "## Importing libraries"
   ]
  },
  {
   "cell_type": "code",
   "execution_count": 2,
   "id": "65ada172",
   "metadata": {},
   "outputs": [],
   "source": [
    "from visualizations import show_results, get_experiment_results, get_column_names, verify_integrity\n",
    "import pandas as pd"
   ]
  },
  {
   "cell_type": "markdown",
   "id": "8acd6a57",
   "metadata": {},
   "source": [
    "## setting up expriment related variables"
   ]
  },
  {
   "cell_type": "markdown",
   "id": "6397ef75",
   "metadata": {},
   "source": [
    "#### important variable names"
   ]
  },
  {
   "cell_type": "code",
   "execution_count": 3,
   "id": "25d327a1",
   "metadata": {},
   "outputs": [],
   "source": [
    "columns = [\"algo\", \"experiment_id\", \"dataset\", \"seed\", \"generation\", \"training_fitness\", \"timing\", \"pop_node_count\"]\n",
    "logger_name = \"liah_full.csv\"\n",
    "log_level = 1"
   ]
  },
  {
   "cell_type": "code",
   "execution_count": 29,
   "id": "f1a010ab",
   "metadata": {},
   "outputs": [
    {
     "name": "stderr",
     "output_type": "stream",
     "text": [
      "/Users/jimmy/Documents/Refresh/SLIMSHADY/SlimShady/utils/visualizations.py:45: DtypeWarning: Columns (8) have mixed types. Specify dtype option on import or set low_memory=False.\n",
      "  results = pd.read_csv(logger, header=None, index_col=None, names=range(use_cols))\n"
     ]
    },
    {
     "data": {
      "image/png": "[encoded data removed]",
      "text/plain": [
       "<Figure size 640x480 with 1 Axes>"
      ]
     },
     "metadata": {},
     "output_type": "display_data"
    },
    {
     "name": "stdout",
     "output_type": "stream",
     "text": [
      "generation  algo                   \n",
      "0           SlimGSGP_pls_work_1_mul      3.0\n",
      "1           SlimGSGP_pls_work_1_mul      3.0\n",
      "2           SlimGSGP_pls_work_1_mul     16.0\n",
      "3           SlimGSGP_pls_work_1_mul     16.0\n",
      "4           SlimGSGP_pls_work_1_mul     22.5\n",
      "                                       ...  \n",
      "496         SlimGSGP_pls_work_1_mul    146.0\n",
      "497         SlimGSGP_pls_work_1_mul    146.0\n",
      "498         SlimGSGP_pls_work_1_mul    146.0\n",
      "499         SlimGSGP_pls_work_1_mul    146.0\n",
      "500         SlimGSGP_pls_work_1_mul    146.0\n",
      "Name: nodes_count, Length: 501, dtype: float64\n"
     ]
    }
   ],
   "source": [
    "show_results(x_var = \"generation\", y_var=\"nodes_count\", experiment_id=-1, logger_name=\"liah_fixed_concrete.csv\",\n",
    "             log_level=1, dataset=None)"
   ]
  },
  {
   "cell_type": "markdown",
   "id": "a750b35b",
   "metadata": {},
   "source": [
    "## Analysing the results"
   ]
  },
  {
   "cell_type": "code",
   "execution_count": null,
   "id": "b777fbf8",
   "metadata": {},
   "outputs": [],
   "source": [
    "a = get_experiment_results(experiment_id=-1, logger_name=\"LR_slim.csv\")\n",
    "a[\"algo\"] = a.algo.map(lambda x: \"SlimGSGP_1_sum\")\n",
    "\n",
    "b = get_experiment_results(experiment_id=-1, logger_name=\"davide_istanbul_slim_mul1_fixed.csv\")\n",
    "b[\"algo\"] = b.algo.map(lambda x: \"SlimGSGP_1_mul\")\n",
    "\n",
    "c = get_experiment_results(experiment_id=-1, logger_name=\"diogo_slim_plus_two_logger_(1).csv\")\n",
    "c[\"algo\"] = c.algo.map(lambda x: \"SlimGSGP_2_sum\")\n",
    "\n",
    "d = get_experiment_results(experiment_id=-1, logger_name=\"LR_slim_fixed.csv\")\n",
    "d[\"algo\"] = d.algo.map(lambda x: \"SlimGSGP_2_mul\")\n",
    "\n",
    "e = get_experiment_results(experiment_id=-1, logger_name=\"davide_gsgp_istanbul.csv\")\n",
    "e\n",
    "final = pd.concat([a,b,c, d, e])\n",
    "final['log_level'] = final.seed.map(lambda x: 1)\n",
    "\n",
    "\n",
    "final.to_csv(\"new_instanbul_fixed.csv\", header=False,  index=False)\n"
   ]
  },
  {
   "cell_type": "code",
   "execution_count": 3,
   "id": "87be7d2b",
   "metadata": {},
   "outputs": [],
   "source": [
    "a = get_experiment_results(experiment_id=None, logger_name=\"slim.csv\")\n",
    "a = a[(a['dataset'] == 'concrete') & (a['algo'] == \"SlimGSGP_2_mul_False\")]\n",
    "\n",
    "b = get_experiment_results(experiment_id=None, logger_name=\"slim_diogo_concrete.csv\")\n",
    "\n",
    "c = get_experiment_results(experiment_id=None, logger_name=\"sum_slim.csv\")\n",
    "\n",
    "final = pd.concat([a,b,c])\n",
    "final['log_level'] = final.seed.map(lambda x: 1)\n",
    "\n",
    "final.to_csv(\"slim_concrete_new_final.csv\", header=False,  index=False)\n"
   ]
  },
  {
   "cell_type": "code",
   "execution_count": 4,
   "id": "de35e5e9",
   "metadata": {},
   "outputs": [
    {
     "data": {
      "text/html": [
       "<div>\n",
       "<style scoped>\n",
       "    .dataframe tbody tr th:only-of-type {\n",
       "        vertical-align: middle;\n",
       "    }\n",
       "\n",
       "    .dataframe tbody tr th {\n",
       "        vertical-align: top;\n",
       "    }\n",
       "\n",
       "    .dataframe thead th {\n",
       "        text-align: right;\n",
       "    }\n",
       "</style>\n",
       "<table border=\"1\" class=\"dataframe\">\n",
       "  <thead>\n",
       "    <tr style=\"text-align: right;\">\n",
       "      <th></th>\n",
       "      <th>algo</th>\n",
       "      <th>experiment_id</th>\n",
       "      <th>dataset</th>\n",
       "      <th>seed</th>\n",
       "      <th>generation</th>\n",
       "      <th>training_fitness</th>\n",
       "      <th>timing</th>\n",
       "      <th>pop_node_count</th>\n",
       "      <th>test_fitness</th>\n",
       "      <th>nodes_count</th>\n",
       "    </tr>\n",
       "  </thead>\n",
       "  <tbody>\n",
       "    <tr>\n",
       "      <th>360180</th>\n",
       "      <td>SlimGSGP_2_mul_False</td>\n",
       "      <td>7b121ead-0974-11ef-8430-6c5d3a0f8f2f</td>\n",
       "      <td>concrete</td>\n",
       "      <td>0.0</td>\n",
       "      <td>0.0</td>\n",
       "      <td>35.308514</td>\n",
       "      <td>0.039000</td>\n",
       "      <td>1442.0</td>\n",
       "      <td>34.459843</td>\n",
       "      <td>3.0</td>\n",
       "    </tr>\n",
       "    <tr>\n",
       "      <th>360181</th>\n",
       "      <td>SlimGSGP_2_mul_False</td>\n",
       "      <td>7b121ead-0974-11ef-8430-6c5d3a0f8f2f</td>\n",
       "      <td>concrete</td>\n",
       "      <td>0.0</td>\n",
       "      <td>1.0</td>\n",
       "      <td>35.218487</td>\n",
       "      <td>0.032910</td>\n",
       "      <td>1935.0</td>\n",
       "      <td>34.329285</td>\n",
       "      <td>26.0</td>\n",
       "    </tr>\n",
       "    <tr>\n",
       "      <th>360182</th>\n",
       "      <td>SlimGSGP_2_mul_False</td>\n",
       "      <td>7b121ead-0974-11ef-8430-6c5d3a0f8f2f</td>\n",
       "      <td>concrete</td>\n",
       "      <td>0.0</td>\n",
       "      <td>2.0</td>\n",
       "      <td>35.218487</td>\n",
       "      <td>0.027000</td>\n",
       "      <td>2105.0</td>\n",
       "      <td>34.329285</td>\n",
       "      <td>26.0</td>\n",
       "    </tr>\n",
       "    <tr>\n",
       "      <th>360183</th>\n",
       "      <td>SlimGSGP_2_mul_False</td>\n",
       "      <td>7b121ead-0974-11ef-8430-6c5d3a0f8f2f</td>\n",
       "      <td>concrete</td>\n",
       "      <td>0.0</td>\n",
       "      <td>3.0</td>\n",
       "      <td>35.045471</td>\n",
       "      <td>0.028000</td>\n",
       "      <td>2517.0</td>\n",
       "      <td>34.061703</td>\n",
       "      <td>51.0</td>\n",
       "    </tr>\n",
       "    <tr>\n",
       "      <th>360184</th>\n",
       "      <td>SlimGSGP_2_mul_False</td>\n",
       "      <td>7b121ead-0974-11ef-8430-6c5d3a0f8f2f</td>\n",
       "      <td>concrete</td>\n",
       "      <td>0.0</td>\n",
       "      <td>4.0</td>\n",
       "      <td>34.981415</td>\n",
       "      <td>0.025001</td>\n",
       "      <td>2982.0</td>\n",
       "      <td>33.897308</td>\n",
       "      <td>68.0</td>\n",
       "    </tr>\n",
       "    <tr>\n",
       "      <th>...</th>\n",
       "      <td>...</td>\n",
       "      <td>...</td>\n",
       "      <td>...</td>\n",
       "      <td>...</td>\n",
       "      <td>...</td>\n",
       "      <td>...</td>\n",
       "      <td>...</td>\n",
       "      <td>...</td>\n",
       "      <td>...</td>\n",
       "      <td>...</td>\n",
       "    </tr>\n",
       "    <tr>\n",
       "      <th>420205</th>\n",
       "      <td>SlimGSGP_2_mul_False</td>\n",
       "      <td>7b121ead-0974-11ef-8430-6c5d3a0f8f2f</td>\n",
       "      <td>concrete</td>\n",
       "      <td>29.0</td>\n",
       "      <td>1996.0</td>\n",
       "      <td>7.497168</td>\n",
       "      <td>0.767753</td>\n",
       "      <td>398621.0</td>\n",
       "      <td>7.927713</td>\n",
       "      <td>4026.0</td>\n",
       "    </tr>\n",
       "    <tr>\n",
       "      <th>420206</th>\n",
       "      <td>SlimGSGP_2_mul_False</td>\n",
       "      <td>7b121ead-0974-11ef-8430-6c5d3a0f8f2f</td>\n",
       "      <td>concrete</td>\n",
       "      <td>29.0</td>\n",
       "      <td>1997.0</td>\n",
       "      <td>7.497168</td>\n",
       "      <td>0.812775</td>\n",
       "      <td>398500.0</td>\n",
       "      <td>7.927713</td>\n",
       "      <td>4026.0</td>\n",
       "    </tr>\n",
       "    <tr>\n",
       "      <th>420207</th>\n",
       "      <td>SlimGSGP_2_mul_False</td>\n",
       "      <td>7b121ead-0974-11ef-8430-6c5d3a0f8f2f</td>\n",
       "      <td>concrete</td>\n",
       "      <td>29.0</td>\n",
       "      <td>1998.0</td>\n",
       "      <td>7.497168</td>\n",
       "      <td>0.797615</td>\n",
       "      <td>399042.0</td>\n",
       "      <td>7.927713</td>\n",
       "      <td>4026.0</td>\n",
       "    </tr>\n",
       "    <tr>\n",
       "      <th>420208</th>\n",
       "      <td>SlimGSGP_2_mul_False</td>\n",
       "      <td>7b121ead-0974-11ef-8430-6c5d3a0f8f2f</td>\n",
       "      <td>concrete</td>\n",
       "      <td>29.0</td>\n",
       "      <td>1999.0</td>\n",
       "      <td>7.497168</td>\n",
       "      <td>0.796159</td>\n",
       "      <td>398444.0</td>\n",
       "      <td>7.927713</td>\n",
       "      <td>4026.0</td>\n",
       "    </tr>\n",
       "    <tr>\n",
       "      <th>420209</th>\n",
       "      <td>SlimGSGP_2_mul_False</td>\n",
       "      <td>7b121ead-0974-11ef-8430-6c5d3a0f8f2f</td>\n",
       "      <td>concrete</td>\n",
       "      <td>29.0</td>\n",
       "      <td>2000.0</td>\n",
       "      <td>7.497168</td>\n",
       "      <td>0.816367</td>\n",
       "      <td>399152.0</td>\n",
       "      <td>7.927713</td>\n",
       "      <td>4026.0</td>\n",
       "    </tr>\n",
       "  </tbody>\n",
       "</table>\n",
       "<p>60030 rows × 10 columns</p>\n",
       "</div>"
      ],
      "text/plain": [
       "                        algo                         experiment_id   dataset  \\\n",
       "360180  SlimGSGP_2_mul_False  7b121ead-0974-11ef-8430-6c5d3a0f8f2f  concrete   \n",
       "360181  SlimGSGP_2_mul_False  7b121ead-0974-11ef-8430-6c5d3a0f8f2f  concrete   \n",
       "360182  SlimGSGP_2_mul_False  7b121ead-0974-11ef-8430-6c5d3a0f8f2f  concrete   \n",
       "360183  SlimGSGP_2_mul_False  7b121ead-0974-11ef-8430-6c5d3a0f8f2f  concrete   \n",
       "360184  SlimGSGP_2_mul_False  7b121ead-0974-11ef-8430-6c5d3a0f8f2f  concrete   \n",
       "...                      ...                                   ...       ...   \n",
       "420205  SlimGSGP_2_mul_False  7b121ead-0974-11ef-8430-6c5d3a0f8f2f  concrete   \n",
       "420206  SlimGSGP_2_mul_False  7b121ead-0974-11ef-8430-6c5d3a0f8f2f  concrete   \n",
       "420207  SlimGSGP_2_mul_False  7b121ead-0974-11ef-8430-6c5d3a0f8f2f  concrete   \n",
       "420208  SlimGSGP_2_mul_False  7b121ead-0974-11ef-8430-6c5d3a0f8f2f  concrete   \n",
       "420209  SlimGSGP_2_mul_False  7b121ead-0974-11ef-8430-6c5d3a0f8f2f  concrete   \n",
       "\n",
       "        seed  generation  training_fitness    timing  pop_node_count  \\\n",
       "360180   0.0         0.0         35.308514  0.039000          1442.0   \n",
       "360181   0.0         1.0         35.218487  0.032910          1935.0   \n",
       "360182   0.0         2.0         35.218487  0.027000          2105.0   \n",
       "360183   0.0         3.0         35.045471  0.028000          2517.0   \n",
       "360184   0.0         4.0         34.981415  0.025001          2982.0   \n",
       "...      ...         ...               ...       ...             ...   \n",
       "420205  29.0      1996.0          7.497168  0.767753        398621.0   \n",
       "420206  29.0      1997.0          7.497168  0.812775        398500.0   \n",
       "420207  29.0      1998.0          7.497168  0.797615        399042.0   \n",
       "420208  29.0      1999.0          7.497168  0.796159        398444.0   \n",
       "420209  29.0      2000.0          7.497168  0.816367        399152.0   \n",
       "\n",
       "        test_fitness  nodes_count  \n",
       "360180     34.459843          3.0  \n",
       "360181     34.329285         26.0  \n",
       "360182     34.329285         26.0  \n",
       "360183     34.061703         51.0  \n",
       "360184     33.897308         68.0  \n",
       "...              ...          ...  \n",
       "420205      7.927713       4026.0  \n",
       "420206      7.927713       4026.0  \n",
       "420207      7.927713       4026.0  \n",
       "420208      7.927713       4026.0  \n",
       "420209      7.927713       4026.0  \n",
       "\n",
       "[60030 rows x 10 columns]"
      ]
     },
     "execution_count": 4,
     "metadata": {},
     "output_type": "execute_result"
    }
   ],
   "source": [
    "a"
   ]
  },
  {
   "cell_type": "code",
   "execution_count": null,
   "id": "513644b4",
   "metadata": {},
   "outputs": [],
   "source": [
    "show_results(x_var = \"generation\", y_var=\"nodes_count\", experiment_id=None, logger_name=\"new_instanbul_fixed.csv\",\n",
    "             log_level=1, dataset=None)"
   ]
  },
  {
   "cell_type": "code",
   "execution_count": null,
   "id": "cbaebafa",
   "metadata": {},
   "outputs": [],
   "source": [
    "ws = open('elite_looks.txt', 'r')\n",
    "for line in ws:\n",
    "    print(line)"
   ]
  },
  {
   "cell_type": "markdown",
   "id": "b7976f9f",
   "metadata": {},
   "source": [
    "### extra stuff for later"
   ]
  },
  {
   "cell_type": "code",
   "execution_count": null,
   "id": "27d683bc",
   "metadata": {},
   "outputs": [],
   "source": [
    "\"\"\" RESID\n",
    "\n",
    "df1 = get_experiment_results(experiment_id=None, logger_name=\"diogo3.csv\") # all 30 seeds\n",
    "\n",
    "df2 = get_experiment_results(experiment_id=None, logger_name=\"diogo.csv\") # all 30 seeds\n",
    "df2 = df2[df2.dataset == \"resid_build_sale_price\"]\n",
    "\n",
    "df3 = get_experiment_results(experiment_id=None, logger_name=\"diogo2.csv\") # all 30 seeds\n",
    "\n",
    "df4 = get_experiment_results(experiment_id=None, logger_name=\"davide.csv\") # seed 0 till 6\n",
    "df4 = df4[df4.seed <= 6] \n",
    "\n",
    "df5 = get_experiment_results(experiment_id=None, logger_name=\"liah2.csv\") # seed 7 till 30\n",
    "\n",
    "\n",
    "final = pd.concat([df1,df2, df3, df4, df5])\n",
    "\n",
    "for s in range(30):\n",
    "    for al in final.algo.unique():\n",
    "        print(f'Seed {s} + Algo {al} ==> {len(final[(final.algo == al) & (final.seed == s)])}')\n",
    "        \n",
    "final['log_level'] = final.seed.map(lambda x: 1)\n",
    "final.to_csv(\"resid_final.csv\", header=False,  index=False)\n",
    "\n",
    "\n",
    "\n",
    "\"\"\""
   ]
  },
  {
   "cell_type": "code",
   "execution_count": null,
   "id": "b7dce610",
   "metadata": {},
   "outputs": [],
   "source": [
    "\"\"\" TOXICITY\n",
    "\n",
    "df_mul = get_experiment_results(experiment_id=None, logger_name=\"liah_mul_logger.csv\")\n",
    "df_mul = df_mul[df_mul.dataset == \"toxicity\"]\n",
    "\n",
    "df_s = get_experiment_results(experiment_id=None, logger_name=\"liah_sum_logger.csv\")\n",
    "df_s = df_s[df_s.dataset == \"toxicity\"]\n",
    "\n",
    "\n",
    "fari = get_experiment_results(experiment_id=None, logger_name=\"diogo_slim_plus_one_logger_.csv\")\n",
    "fari = fari[fari.dataset == \"toxicity\"]\n",
    "\n",
    "farid = get_experiment_results(experiment_id=None, logger_name=\"davide_toxicity_+1.csv\")\n",
    "farid = farid[farid.dataset == \"toxicity\"]\n",
    "farid = farid[~farid.seed.isin(fari.seed.unique())]\n",
    "fari_final = pd.concat([fari, farid])\n",
    "diogo = get_experiment_results(experiment_id=None, logger_name=\"diogo_slim_logger.csv\")\n",
    "\n",
    "gp = get_experiment_results(experiment_id=None, logger_name=\"diogo_gp_logger.csv\")\n",
    "\n",
    "gsgp = get_experiment_results(experiment_id=None, logger_name=\"liah_gsgp.csv\")\n",
    "gsgp = gsgp[gsgp.dataset == \"toxicity\"]\n",
    "\n",
    "final = pd.concat([diogo, fari_final, df_mul, df_s, gsgp, gp])\n",
    "final['log_level'] = final.seed.map(lambda x: 1)\n",
    "\n",
    "\n",
    "final.to_csv(\"toxicity_final.csv\", header=False,  index=False)\n",
    "\n",
    "\"\"\""
   ]
  },
  {
   "cell_type": "code",
   "execution_count": null,
   "id": "a2f5c441",
   "metadata": {},
   "outputs": [],
   "source": [
    "\"\"\" PPB\n",
    "\n",
    "d = get_experiment_results(experiment_id=None, logger_name=\"diogo_logger.csv\")\n",
    "mul1 = d[d.dataset== \"ppb\"]\n",
    "\n",
    "d = get_experiment_results(experiment_id=None, logger_name=\"davide_logger2.csv\")\n",
    "plus1 = d[d.dataset == \"ppb\"]\n",
    "\n",
    "d = get_experiment_results(experiment_id=None, logger_name=\"liah_logger.csv\")\n",
    "\n",
    "mul2 = d[(d.dataset==\"ppb\") & (d.algo == 'SlimGSGP_2_mul.csv' )]\n",
    "sum2 = d[(d.dataset==\"ppb\") & (d.algo == 'SlimGSGP_2_sum.csv' )]\n",
    "\n",
    "final = pd.concat([mul1,plus1, mul2, sum2])\n",
    "\n",
    "\n",
    "final['log_level'] = final.seed.map(lambda x: 1)\n",
    "final.to_csv(\"ppb_final.csv\", header=False,  index=False)\n",
    "\n",
    "for s in range(30):\n",
    "    for al in final.algo.unique():\n",
    "        print(f'Seed {s} + Algo {al} ==> {len(final[(final.algo == al) & (final.seed == s)])}')\n",
    "        \n",
    "\n",
    "\n",
    "\"\"\""
   ]
  },
  {
   "cell_type": "code",
   "execution_count": null,
   "id": "94ab6a86",
   "metadata": {},
   "outputs": [],
   "source": [
    "\"\"\" TOXICITY MODIFIED\n",
    "gp = get_experiment_results(experiment_id=None, logger_name=\"diogo_gp_logger.csv\")\n",
    "\n",
    "gsgp = get_experiment_results(experiment_id=None, logger_name=\"liah_gsgp.csv\")\n",
    "gsgp = gsgp[gsgp.dataset == \"toxicity\"]\n",
    "tox = get_experiment_results(experiment_id=None, logger_name=\"LR_slim.csv\")\n",
    "tox = tox[tox.dataset==\"toxicity\"]\n",
    "mul2 = tox[tox.algo == 'SlimGSGP_2_mul']\n",
    "tox = tox[tox.experiment_id != \"851e6ca8-f15b-11ee-a444-badda4640570\"]\n",
    "final_tox = pd.concat([tox, mul2, gp, gsgp])\n",
    "final_tox['log_level'] = final_tox.seed.map(lambda x: 1)\n",
    "final_tox.to_csv(\"tox_modified_final.csv\", header=False,  index=False)\n",
    "\"\"\""
   ]
  },
  {
   "cell_type": "code",
   "execution_count": null,
   "id": "ab36afa4",
   "metadata": {},
   "outputs": [],
   "source": [
    "# dataset checker:\n",
    "for s in range(30):\n",
    "    for al in final.algo.unique():\n",
    "        print(f'Seed {s} + Algo {al} ==> {len(final[(final.algo == al) & (final.seed == s)])}')\n"
   ]
  },
  {
   "cell_type": "code",
   "execution_count": null,
   "id": "1098ca40",
   "metadata": {},
   "outputs": [],
   "source": [
    "# df[\"pop_fitnesses\"].map(lambda x: torch.tensor([float(val.split(\"tensor(\")[-1][:-1]) for val in x.split()]))"
   ]
  },
  {
   "cell_type": "code",
   "execution_count": null,
   "id": "fe207eaf",
   "metadata": {},
   "outputs": [],
   "source": [
    "df_mul = get_experiment_results(experiment_id=None, logger_name=\"liah_mul_logger.csv\")\n",
    "df_mul = df_mul[df_mul.dataset == \"toxicity\"]\n",
    "\n",
    "df_s = get_experiment_results(experiment_id=None, logger_name=\"liah_sum_logger.csv\")\n",
    "df_s = df_s[df_s.dataset == \"toxicity\"]\n",
    "\n",
    "\n",
    "fari = get_experiment_results(experiment_id=None, logger_name=\"diogo_slim_plus_one_logger_.csv\")\n",
    "fari = fari[fari.dataset == \"toxicity\"]"
   ]
  },
  {
   "cell_type": "code",
   "execution_count": null,
   "id": "4b535d7c",
   "metadata": {},
   "outputs": [],
   "source": [
    "farid = get_experiment_results(experiment_id=None, logger_name=\"davide_toxicity_+1.csv\")\n",
    "farid = farid[farid.dataset == \"toxicity\"]\n",
    "farid = farid[~farid.seed.isin(fari.seed.unique())]\n",
    "fari_final = pd.concat([fari, farid])\n",
    "diogo = get_experiment_results(experiment_id=None, logger_name=\"diogo_slim_logger.csv\")"
   ]
  },
  {
   "cell_type": "code",
   "execution_count": null,
   "id": "9e2a1a8f",
   "metadata": {},
   "outputs": [],
   "source": [
    "final = pd.concat([diogo, fari, df_mul, df_s])\n",
    "final['log_level'] = final.seed.map(lambda x: 1)\n",
    "final.to_csv(\"final.csv\", header=False,  index=False)"
   ]
  },
  {
   "cell_type": "code",
   "execution_count": null,
   "id": "0fe645c9",
   "metadata": {},
   "outputs": [],
   "source": [
    "a = \"StandardGP,fa2d9f34-ea10-11ee-a0ac-18c04d6299ac,toxicity,0,0,2204.756591796875,0.17503881454467773,1554.0,1993.7264404296875,1\""
   ]
  }
 ],
 "metadata": {
  "kernelspec": {
   "display_name": "Python 3 (ipykernel)",
   "language": "python",
   "name": "python3"
  },
  "language_info": {
   "codemirror_mode": {
    "name": "ipython",
    "version": 3
   },
   "file_extension": ".py",
   "mimetype": "text/x-python",
   "name": "python",
   "nbconvert_exporter": "python",
   "pygments_lexer": "ipython3",
   "version": "3.9.13"
  }
 },
 "nbformat": 4,
 "nbformat_minor": 5
}
