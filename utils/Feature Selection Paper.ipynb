{
 "cells": [
  {
   "cell_type": "code",
   "execution_count": 1,
   "id": "388cbd87-884f-4f47-8846-1fb450e7a754",
   "metadata": {},
   "outputs": [],
   "source": [
    "import pandas as pd"
   ]
  },
  {
   "cell_type": "code",
   "execution_count": 2,
   "id": "35923e3e-c5e5-4dd5-a902-40b64059b4aa",
   "metadata": {},
   "outputs": [],
   "source": [
    "# Data for each table\n",
    "data_test_rc = {\n",
    "    \"\": [\"yatch\", \"airfoil\", \"concrete_slump\", \"concrete_strength\", \"ppb\", \"bioav\", \"ld50\"],\n",
    "    \"SLIM*1SIG\": [3, 1, 0, 3, 0, 0, 0],\n",
    "    \"SLIM*ABS\": [1, 1, 0, 2, 0, 0, 0],\n",
    "    \"SLIM+2SIG\": [3, 4, 2, 3, 0, 2, 0],\n",
    "    \"GSGP\": [0, 4, 3, 4, 2, 4, 0],\n",
    "    \"GSGP*1SIG\": [3, 4, 2, 3, 0, 0, 0],\n",
    "    \"GSGP*ABS\": [3, 1, 0, 2, 0, 1, 0],\n",
    "    \"SLIM*1SIG_rmse\": [3, 3, 0, 3, 0, 0, 0],\n",
    "    \"SLIM*ABS_rmse\": [2, 2, 0, 2, 1, 4, 0],\n",
    "    \"SLIM+2SIG_rmse\": [3, 4, 1, 4, 0, 1, 0],\n",
    "    \"SLIM*1SIG_sign\": [3, 2, 0, 3, 1, 0, 0],\n",
    "    \"SLIM*ABS_sign\": [1, 2, 0, 2, 1, 3, 0],\n",
    "    \"SLIM+2SIG_sign\": [3, 4, 1, 4, 0, 1, 0],\n",
    "    \"SLIM*1SIG_sign_rmse\": [3, 3, 0, 2, 0, 0, 0],\n",
    "    \"SLIM*ABS_sign_rmse\": [1, 2, 0, 2, 1, 4, 0],\n",
    "    \"SLIM+2SIG_sign_rmse\": [3, 3, 2, 3, 0, 0, 0],\n",
    "}\n",
    "\n",
    "data_test_an = {\n",
    "    \"\": [\"yatch\", \"airfoil\", \"concrete_slump\", \"concrete_strength\", \"ppb\", \"bioav\", \"ld50\"],\n",
    "    \"SLIM*1SIG\": [3, 1, 2, 3, 0, 0, 0],\n",
    "    \"SLIM*ABS\": [3, 1, 2, 2, 0, 1, 0],\n",
    "    \"SLIM+2SIG\": [4, 4, 3, 3, 0, 2, 0],\n",
    "    \"GSGP\": [2, 4, 3, 4, 2, 4, 4],\n",
    "    \"GSGP*1SIG\": [4, 4, 3, 3, 0, 0, 0],\n",
    "    \"GSGP*ABS\": [4, 2, 2, 2, 0, 2, 0],\n",
    "    \"SLIM*1SIG_rmse\": [4, 2, 2, 3, 0, 0, 0],\n",
    "    \"SLIM*ABS_rmse\": [3, 2, 2, 3, 0, 3, 0],\n",
    "    \"SLIM+2SIG_rmse\": [4, 4, 3, 4, 0, 2, 0],\n",
    "    \"SLIM*1SIG_sign\": [4, 2, 3, 3, 0, 0, 0],\n",
    "    \"SLIM*ABS_sign\": [3, 2, 1, 2, 0, 3, 0],\n",
    "    \"SLIM+2SIG_sign\": [4, 3, 3, 4, 0, 1, 0],\n",
    "    \"SLIM*1SIG_sign_rmse\": [3, 2, 2, 3, 1, 0, 0],\n",
    "    \"SLIM*ABS_sign_rmse\": [3, 2, 2, 2, 0, 4, 4],\n",
    "    \"SLIM+2SIG_sign_rmse\": [4, 3, 3, 4, 0, 1, 0],\n",
    "}\n",
    "\n",
    "table_train_rc_data = {\n",
    "    \" \": [\"yatch\", \"airfoil\", \"concrete_slump\", \"concrete_strength\", \"ppb\", \"bioav\", \"ld50\"],\n",
    "    \"SLIM*1SIG\": [3, 1, 3, 3, 0, 0, 0],\n",
    "    \"SLIM*ABS\": [2, 1, 2, 2, 0, 0, 0],\n",
    "    \"SLIM+2SIG\": [3, 4, 0, 3, 0, 0, 0],\n",
    "    \"GSGP\": [1, 4, 4, 4, 4, 4, 4],\n",
    "    \"GSGP*1SIG\": [3, 4, 3, 3, 0, 1, 0],\n",
    "    \"GSGP*ABS\": [3, 1, 1, 1, 0, 1, 0],\n",
    "    \"SLIM*1SIG_rmse\": [3, 3, 4, 3, 0, 0, 0],\n",
    "    \"SLIM*ABS_rmse\": [3, 1, 0, 2, 0, 0, 4],\n",
    "    \"SLIM+2SIG_rmse\": [3, 4, 0, 3, 0, 0, 0],\n",
    "    \"SLIM*1SIG_sign\": [3, 2, 3, 3, 0, 0, 0],\n",
    "    \"SLIM*ABS_sign\": [3, 1, 0, 2, 0, 0, 4],\n",
    "    \"SLIM+2SIG_sign\": [4, 4, 1, 4, 0, 0, 0],\n",
    "    \"SLIM*1SIG_sign_rmse\": [3, 3, 3, 2, 0, 0, 0],\n",
    "    \"SLIM*ABS_sign_rmse\": [3, 1, 1, 2, 0, 0, 4],\n",
    "    \"SLIM+2SIG_sign_rmse\": [4, 3, 0, 3, 0, 0, 0]\n",
    "}\n",
    "\n",
    "# Table: Results for the add noise experiment train\n",
    "table_train_an_data = {\n",
    "    \" \": [\"yatch\", \"airfoil\", \"concrete_slump\", \"concrete_strength\", \"ppb\", \"bioav\", \"ld50\"],\n",
    "    \"SLIM*1SIG\": [3, 1, 3, 3, 0, 0, 0],\n",
    "    \"SLIM*ABS\": [3, 1, 3, 2, 0, 0, 0],\n",
    "    \"SLIM+2SIG\": [4, 4, 0, 3, 0, 0, 0],\n",
    "    \"GSGP\": [3, 4, 4, 4, 4, 4, 4],\n",
    "    \"GSGP*1SIG\": [4, 4, 3, 3, 0, 1, 0],\n",
    "    \"GSGP*ABS\": [4, 2, 3, 3, 0, 1, 0],\n",
    "    \"SLIM*1SIG_rmse\": [4, 2, 4, 3, 0, 0, 0],\n",
    "    \"SLIM*ABS_rmse\": [3, 2, 2, 3, 0, 0, 4],\n",
    "    \"SLIM+2SIG_rmse\": [4, 4, 1, 3, 0, 0, 0],\n",
    "    \"SLIM*1SIG_sign\": [4, 2, 3, 3, 0, 0, 0],\n",
    "    \"SLIM*ABS_sign\": [3, 2, 3, 2, 0, 0, 4],\n",
    "    \"SLIM+2SIG_sign\": [4, 3, 1, 4, 0, 0, 0],\n",
    "    \"SLIM*1SIG_sign_rmse\": [4, 2, 3, 3, 0, 0, 0],\n",
    "    \"SLIM*ABS_sign_rmse\": [3, 2, 2, 2, 0, 0, 4],\n",
    "    \"SLIM+2SIG_sign_rmse\": [4, 3, 0, 3, 0, 0, 0]\n",
    "}\n",
    "\n",
    "\n",
    "\n",
    "# Create DataFrames\n",
    "df_test_rc = pd.DataFrame(data_test_rc)\n",
    "df_test_an = pd.DataFrame(data_test_an)\n",
    "df_train_rc = pd.DataFrame(table_train_rc_data)\n",
    "df_train_an = pd.DataFrame(table_train_an_data)"
   ]
  },
  {
   "cell_type": "code",
   "execution_count": 18,
   "id": "6813a0fd-d94e-4285-95a0-cd880258e306",
   "metadata": {},
   "outputs": [],
   "source": [
    "df_train_rc = df_train_rc.rename(columns = {' ':''})\n",
    "df_train_an = df_train_an.rename(columns = {' ':''})"
   ]
  },
  {
   "cell_type": "code",
   "execution_count": 4,
   "id": "9e7dbfda-bd3f-45d1-b4c4-0302a96dceef",
   "metadata": {},
   "outputs": [],
   "source": [
    "\n",
    "def create_latex_table(df, columns, caption = None):\n",
    "    \n",
    "    ndf = df[columns].copy()\n",
    "\n",
    "    ndf.rename(columns = {'' : 'dataset'}, inplace = True)\n",
    "\n",
    "    ndf.set_index('dataset', drop = True, inplace = True)\n",
    "\n",
    "    df.index.name = None\n",
    "\n",
    "    print(ndf.to_latex(index = None, column_format='ccccccc', escape = False, position = '!ht', caption = caption))\n"
   ]
  },
  {
   "cell_type": "code",
   "execution_count": 16,
   "id": "6a86aaff-6ff1-4957-b457-28aca4fc5bcc",
   "metadata": {},
   "outputs": [
    {
     "data": {
      "text/plain": [
       "Index(['', 'SLIM*1SIG', 'SLIM*ABS', 'SLIM+2SIG', 'GSGP', 'GSGP*1SIG',\n",
       "       'GSGP*ABS', 'SLIM*1SIG_rmse', 'SLIM*ABS_rmse', 'SLIM+2SIG_rmse',\n",
       "       'SLIM*1SIG_sign', 'SLIM*ABS_sign', 'SLIM+2SIG_sign',\n",
       "       'SLIM*1SIG_sign_rmse', 'SLIM*ABS_sign_rmse', 'SLIM+2SIG_sign_rmse'],\n",
       "      dtype='object')"
      ]
     },
     "execution_count": 16,
     "metadata": {},
     "output_type": "execute_result"
    }
   ],
   "source": [
    "df_train_rc.columns"
   ]
  },
  {
   "cell_type": "code",
   "execution_count": 20,
   "id": "7398cd43-1878-47f0-b8b6-f93262ed6801",
   "metadata": {},
   "outputs": [
    {
     "name": "stdout",
     "output_type": "stream",
     "text": [
      "\\begin{table}[!ht]\n",
      "\\caption{blablabla}\n",
      "\\begin{tabular}{ccccccc}\n",
      "\\toprule\n",
      " & GSGP & SLIM+2SIG & GSGP*1SIG & SLIM*1SIG & GSGP*ABS & SLIM*ABS \\\\\n",
      "dataset &  &  &  &  &  &  \\\\\n",
      "\\midrule\n",
      "yatch & 2 & 4 & 4 & 3 & 4 & 3 \\\\\n",
      "airfoil & 4 & 4 & 4 & 1 & 2 & 1 \\\\\n",
      "concrete_slump & 3 & 3 & 3 & 2 & 2 & 2 \\\\\n",
      "concrete_strength & 4 & 3 & 3 & 3 & 2 & 2 \\\\\n",
      "ppb & 2 & 0 & 0 & 0 & 0 & 0 \\\\\n",
      "bioav & 4 & 2 & 0 & 0 & 2 & 1 \\\\\n",
      "ld50 & 4 & 0 & 0 & 0 & 0 & 0 \\\\\n",
      "\\bottomrule\n",
      "\\end{tabular}\n",
      "\\end{table}\n",
      "\n"
     ]
    }
   ],
   "source": [
    "create_latex_table(df_test_an, ['','GSGP','SLIM+2SIG',\n",
    "            'GSGP*1SIG', 'SLIM*1SIG',\n",
    "             'GSGP*ABS', 'SLIM*ABS'], caption = 'blablabla')"
   ]
  },
  {
   "cell_type": "code",
   "execution_count": 26,
   "id": "e0db6226-02a1-4dd7-9d4f-629e64833097",
   "metadata": {},
   "outputs": [
    {
     "name": "stdout",
     "output_type": "stream",
     "text": [
      "\\begin{table}[!ht]\n",
      "\\caption{blablabla}\n",
      "\\begin{tabular}{ccccccc}\n",
      "\\toprule\n",
      " & SLIM+2SIG & SLIM+2SIG_rmse & SLIM+2SIG_sign & SLIM+2SIG_sign_rmse & SLIM*1SIG & SLIM*1SIG_rmse & SLIM*1SIG_sign & SLIM*1SIG_sign_rmse & SLIM*ABS & SLIM*ABS_rmse & SLIM*ABS_sign & SLIM*ABS_sign_rmse \\\\\n",
      "dataset &  &  &  &  &  &  &  &  &  &  &  &  \\\\\n",
      "\\midrule\n",
      "yatch & 3 & 3 & 3 & 3 & 3 & 3 & 3 & 3 & 1 & 2 & 1 & 1 \\\\\n",
      "airfoil & 4 & 4 & 4 & 3 & 1 & 3 & 2 & 3 & 1 & 2 & 2 & 2 \\\\\n",
      "concrete_slump & 2 & 1 & 1 & 2 & 0 & 0 & 0 & 0 & 0 & 0 & 0 & 0 \\\\\n",
      "concrete_strength & 3 & 4 & 4 & 3 & 3 & 3 & 3 & 2 & 2 & 2 & 2 & 2 \\\\\n",
      "ppb & 0 & 0 & 0 & 0 & 0 & 0 & 1 & 0 & 0 & 1 & 1 & 1 \\\\\n",
      "bioav & 2 & 1 & 1 & 0 & 0 & 0 & 0 & 0 & 0 & 4 & 3 & 4 \\\\\n",
      "ld50 & 0 & 0 & 0 & 0 & 0 & 0 & 0 & 0 & 0 & 0 & 0 & 0 \\\\\n",
      "\\bottomrule\n",
      "\\end{tabular}\n",
      "\\end{table}\n",
      "\n"
     ]
    }
   ],
   "source": [
    "create_latex_table(df_test_rc, ['','SLIM+2SIG',  'SLIM+2SIG_rmse', 'SLIM+2SIG_sign', 'SLIM+2SIG_sign_rmse',\n",
    "                                'SLIM*1SIG', 'SLIM*1SIG_rmse','SLIM*1SIG_sign', 'SLIM*1SIG_sign_rmse',\n",
    "                                'SLIM*ABS', 'SLIM*ABS_rmse','SLIM*ABS_sign','SLIM*ABS_sign_rmse', \n",
    "            ], caption = 'blablabla')"
   ]
  },
  {
   "cell_type": "code",
   "execution_count": null,
   "id": "ea5696c6-f400-44df-8818-d27a931953a6",
   "metadata": {},
   "outputs": [],
   "source": []
  }
 ],
 "metadata": {
  "kernelspec": {
   "display_name": "Python 3 (ipykernel)",
   "language": "python",
   "name": "python3"
  },
  "language_info": {
   "codemirror_mode": {
    "name": "ipython",
    "version": 3
   },
   "file_extension": ".py",
   "mimetype": "text/x-python",
   "name": "python",
   "nbconvert_exporter": "python",
   "pygments_lexer": "ipython3",
   "version": "3.12.4"
  }
 },
 "nbformat": 4,
 "nbformat_minor": 5
}
