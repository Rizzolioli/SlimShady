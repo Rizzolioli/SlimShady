{
 "cells": [
  {
   "cell_type": "code",
   "execution_count": 1,
   "id": "11cf9a0e-6ab3-4d17-9478-1e3161acddb8",
   "metadata": {},
   "outputs": [],
   "source": [
    "# Global settings\n",
    "import time\n",
    "import uuid\n",
    "\n",
    "from datasets.data_loader import load_ppb\n",
    "\n",
    "from slim.algorithms.GP.gp import GP\n",
    "from slim.algorithms.GP.operators.mutators import mutate_tree_subtree\n",
    "from slim.algorithms.GP.representations.tree_utils import tree_depth, tree_pruning\n",
    "from slim.config.gp_config import *\n",
    "from slim.utils.logger import log_settings\n",
    "from slim.utils.utils import get_terminals, validate_inputs, train_test_split\n"
   ]
  },
  {
   "cell_type": "code",
   "execution_count": null,
   "id": "089ebdb7-89c5-45d9-b069-a8f5f77986b7",
   "metadata": {},
   "outputs": [],
   "source": []
  },
  {
   "cell_type": "code",
   "execution_count": null,
   "id": "edef2943-631a-4952-bacb-d41490591d67",
   "metadata": {},
   "outputs": [],
   "source": []
  },
  {
   "cell_type": "code",
   "execution_count": 2,
   "id": "f85c743e-025f-4a7d-b350-d9bf8f1bf4da",
   "metadata": {},
   "outputs": [
    {
     "name": "stdout",
     "output_type": "stream",
     "text": [
      "torch.Size([26, 626]) torch.Size([26, 626]) torch.Size([26]) torch.Size([26])\n"
     ]
    }
   ],
   "source": [
    "X, y = load_ppb(X_y=True)\n",
    "X_train, X_test, y_train, y_test = train_test_split(X, y, p_test=0.4)\n",
    "X_val, X_test, y_val, y_test = train_test_split(X_test, y_test, p_test=0.5)\n",
    "print(X_val.shape, X_test.shape, y_val.shape, y_test.shape)\n"
   ]
  },
  {
   "cell_type": "code",
   "execution_count": 3,
   "id": "e592a925-1e43-47f5-9a47-e4cfda348767",
   "metadata": {},
   "outputs": [],
   "source": [
    "# Problem instance\n",
    "TERMINALS = get_terminals(X_train)\n",
    "\n",
    "pop_size = 500\n",
    "\n",
    "init_depth = 3\n",
    "gp_pi_init[\"TERMINALS\"] = TERMINALS\n",
    "gp_pi_init[\"init_pop_size\"] = pop_size\n",
    "gp_pi_init[\"init_depth\"] = init_depth\n"
   ]
  },
  {
   "cell_type": "code",
   "execution_count": 4,
   "id": "905d6695-28c8-4e92-b6d0-3d79d788b4cf",
   "metadata": {},
   "outputs": [],
   "source": [
    "# GP\n",
    "p_xo = 0.8\n",
    "gp_parameters[\"p_xo\"] = p_xo\n",
    "gp_parameters[\"p_m\"] = 1 - gp_parameters[\"p_xo\"]\n",
    "gp_parameters[\"pop_size\"] = pop_size\n",
    "gp_parameters[\"mutator\"] = mutate_tree_subtree(\n",
    "    gp_pi_init['init_depth'], TERMINALS, CONSTANTS, FUNCTIONS, p_c=gp_pi_init['p_c']\n",
    ")\n"
   ]
  },
  {
   "cell_type": "code",
   "execution_count": 5,
   "id": "da474d15-3f25-4c30-87cd-a9a85191ade6",
   "metadata": {},
   "outputs": [],
   "source": [
    "# Log\n",
    "log_path = os.path.join(os.getcwd(), \"log\", \"gp.csv\")\n"
   ]
  },
  {
   "cell_type": "code",
   "execution_count": 6,
   "id": "977cd46c-1378-4acd-ac68-74126dea1d69",
   "metadata": {},
   "outputs": [],
   "source": [
    "# Solve settings\n",
    "elitism = True\n",
    "n_elites = 1\n",
    "algo = 'StandardGP'\n",
    "dataset_name = 'PPB'\n",
    "unique_run_id = uuid.uuid1()\n",
    "max_depth = 17\n",
    "n_iter = 1000\n",
    "gp_solve_parameters['run_info'] = [algo, unique_run_id, dataset_name]\n",
    "gp_solve_parameters[\"log_path\"] = log_path\n",
    "gp_solve_parameters[\"elitism\"] = elitism\n",
    "gp_solve_parameters[\"n_elites\"] = n_elites\n",
    "gp_solve_parameters[\"max_depth\"] = max_depth\n",
    "gp_solve_parameters[\"n_iter\"] = n_iter\n",
    "gp_solve_parameters[\"tree_pruner\"] = tree_pruning(\n",
    "    TERMINALS=TERMINALS, CONSTANTS=CONSTANTS, FUNCTIONS=FUNCTIONS, p_c=gp_pi_init[\"p_c\"]\n",
    ")\n",
    "gp_solve_parameters['depth_calculator'] = tree_depth(FUNCTIONS=FUNCTIONS)\n",
    "gp_solve_parameters[\"test_elite\"] = True\n"
   ]
  },
  {
   "cell_type": "code",
   "execution_count": 7,
   "id": "caa27528-c340-45bc-9669-9b2fec0eb782",
   "metadata": {},
   "outputs": [],
   "source": [
    "# GP instance\n",
    "seed = 1\n",
    "optimizer = GP(pi_init=gp_pi_init, **gp_parameters, seed=seed)\n"
   ]
  },
  {
   "cell_type": "code",
   "execution_count": 8,
   "id": "b430609c-f2d5-45b2-aae3-37803ff23d52",
   "metadata": {},
   "outputs": [
    {
     "name": "stdout",
     "output_type": "stream",
     "text": [
      "\n",
      "Loop execution_time:\t\t\t\t0.01665806770324707\n",
      "_execute_tree Parallel execution_time:\t\t0.016257762908935547\n",
      "_evaluate_pop_2 Parallel execution_time:\t0.019313812255859375\n",
      "\n",
      "Verbose Reporter\n",
      "-----------------------------------------------------------------------------------------------------------------------------------------\n",
      "|         Dataset         |  Generation  |     Train Fitness     |       Test Fitness       |        Timing          |      Nodes       |\n",
      "-----------------------------------------------------------------------------------------------------------------------------------------\n",
      "|     PPB                 |       0      |   34.88151168823242   |   35.582557678222656     |   0.15308809280395508  |      3           |\n",
      "\n",
      "Loop execution_time:\t\t\t\t0.018201828002929688\n",
      "_execute_tree Parallel execution_time:\t\t0.019238948822021484\n",
      "_evaluate_pop_2 Parallel execution_time:\t0.01862788200378418\n",
      "\n",
      "|     PPB                 |       1      |   30.97121238708496   |   29.513381958007812     |   0.07751083374023438  |      3           |\n",
      "\n",
      "Loop execution_time:\t\t\t\t0.017646074295043945\n",
      "_execute_tree Parallel execution_time:\t\t0.015251874923706055\n",
      "_evaluate_pop_2 Parallel execution_time:\t0.014312982559204102\n",
      "\n",
      "|     PPB                 |       2      |   30.97121238708496   |   29.513381958007812     |   0.06642818450927734  |      3           |\n",
      "\n",
      "Loop execution_time:\t\t\t\t0.015481233596801758\n",
      "_execute_tree Parallel execution_time:\t\t0.012684822082519531\n",
      "_evaluate_pop_2 Parallel execution_time:\t0.013873100280761719\n",
      "\n",
      "|     PPB                 |       3      |   30.86421012878418   |   30.11235809326172      |   0.056121110916137695 |      3           |\n",
      "\n",
      "Loop execution_time:\t\t\t\t0.016129016876220703\n",
      "_execute_tree Parallel execution_time:\t\t0.015275001525878906\n",
      "_evaluate_pop_2 Parallel execution_time:\t0.01627802848815918\n",
      "\n",
      "|     PPB                 |       4      |   30.86421012878418   |   30.11235809326172      |   0.06339287757873535  |      3           |\n",
      "\n",
      "Loop execution_time:\t\t\t\t0.015505075454711914\n",
      "_execute_tree Parallel execution_time:\t\t0.012988805770874023\n",
      "_evaluate_pop_2 Parallel execution_time:\t0.01465296745300293\n",
      "\n",
      "|     PPB                 |       5      |   30.626811981201172  |   29.906925201416016     |   0.058924198150634766 |      5           |\n",
      "\n",
      "Loop execution_time:\t\t\t\t0.14523577690124512\n",
      "_execute_tree Parallel execution_time:\t\t0.031064987182617188\n",
      "_evaluate_pop_2 Parallel execution_time:\t0.01899123191833496\n",
      "\n",
      "|     PPB                 |       6      |   30.626811981201172  |   29.906925201416016     |   0.21124792098999023  |      5           |\n",
      "\n",
      "Loop execution_time:\t\t\t\t0.028084993362426758\n",
      "_execute_tree Parallel execution_time:\t\t0.01987004280090332\n",
      "_evaluate_pop_2 Parallel execution_time:\t0.016871929168701172\n",
      "\n",
      "|     PPB                 |       7      |   30.626811981201172  |   29.906925201416016     |   0.08455395698547363  |      5           |\n",
      "\n",
      "Loop execution_time:\t\t\t\t0.01769113540649414\n",
      "_execute_tree Parallel execution_time:\t\t0.014346837997436523\n",
      "_evaluate_pop_2 Parallel execution_time:\t0.014715909957885742\n",
      "\n",
      "|     PPB                 |       8      |   30.282136917114258  |   29.813352584838867     |   0.06796503067016602  |      5           |\n",
      "\n",
      "Loop execution_time:\t\t\t\t0.04681134223937988\n",
      "_execute_tree Parallel execution_time:\t\t0.02169489860534668\n",
      "_evaluate_pop_2 Parallel execution_time:\t0.01450490951538086\n",
      "\n",
      "|     PPB                 |       9      |   30.08724021911621   |   29.753437042236328     |   0.10085105895996094  |      7           |\n",
      "\n",
      "Loop execution_time:\t\t\t\t0.018230199813842773\n",
      "_execute_tree Parallel execution_time:\t\t0.015294075012207031\n",
      "_evaluate_pop_2 Parallel execution_time:\t0.015118122100830078\n",
      "\n",
      "|     PPB                 |       10     |   30.08724021911621   |   29.753437042236328     |   0.06396794319152832  |      7           |\n"
     ]
    }
   ],
   "source": [
    "# Solve\n",
    "n_iter = 250\n",
    "gp_solve_parameters[\"n_iter\"] = n_iter\n",
    "optimizer.solve(\n",
    "    X_train=X_train,\n",
    "    X_test=X_test,\n",
    "    y_train=y_train,\n",
    "    y_test=y_test,\n",
    "    curr_dataset=dataset_name,\n",
    "    **gp_solve_parameters\n",
    ")\n"
   ]
  },
  {
   "cell_type": "code",
   "execution_count": null,
   "id": "d18173a2-cbb1-44ff-9134-2f92ea602bd7",
   "metadata": {},
   "outputs": [],
   "source": []
  },
  {
   "cell_type": "code",
   "execution_count": null,
   "id": "1be57552-9ac2-414d-8b0d-b6ed6d0ac447",
   "metadata": {},
   "outputs": [],
   "source": []
  },
  {
   "cell_type": "code",
   "execution_count": null,
   "id": "cf495dd0-ee23-48bd-a2a1-a2a57d489f21",
   "metadata": {},
   "outputs": [],
   "source": []
  },
  {
   "cell_type": "code",
   "execution_count": null,
   "id": "152bb14d-a732-4da0-a265-37130c214da6",
   "metadata": {},
   "outputs": [],
   "source": []
  },
  {
   "cell_type": "code",
   "execution_count": null,
   "id": "92bfea50-956b-4588-8595-86911c890b89",
   "metadata": {},
   "outputs": [],
   "source": [
    "log_settings(\n",
    "    path=log_path[:-4] + \"_settings.csv\",\n",
    "    settings_dict=[gp_solve_parameters,\n",
    "                   gp_parameters,\n",
    "                   gp_pi_init,\n",
    "                   settings_dict],\n",
    "    unique_run_id=unique_run_id,\n",
    ")\n"
   ]
  },
  {
   "cell_type": "code",
   "execution_count": null,
   "id": "474a70e7-8693-488f-bf6b-46ce4c35f3df",
   "metadata": {},
   "outputs": [],
   "source": [
    "final_tree = optimizer.elite\n"
   ]
  },
  {
   "cell_type": "code",
   "execution_count": null,
   "id": "46c2981a-bcdf-412d-ae39-8fe32a50d82c",
   "metadata": {},
   "outputs": [],
   "source": [
    "predictions = final_tree.predict(X_test)\n",
    "print('RMSE test: {}\\n'.format(float(rmse(y_true=y_test, y_pred=predictions))))\n",
    "\n",
    "final_tree.print_tree_representation()\n"
   ]
  },
  {
   "cell_type": "code",
   "execution_count": 24,
   "id": "feacc541-c675-4c1e-84b9-8e9f8e9bde95",
   "metadata": {},
   "outputs": [
    {
     "data": {
      "text/plain": [
       "71"
      ]
     },
     "execution_count": 24,
     "metadata": {},
     "output_type": "execute_result"
    }
   ],
   "source": [
    "final_tree.node_count"
   ]
  },
  {
   "cell_type": "code",
   "execution_count": null,
   "id": "641a655b-4c08-4e08-8e6f-ed7369e19a9e",
   "metadata": {},
   "outputs": [],
   "source": []
  }
 ],
 "metadata": {
  "kernelspec": {
   "display_name": "Python 3 (ipykernel)",
   "language": "python",
   "name": "python3"
  },
  "language_info": {
   "codemirror_mode": {
    "name": "ipython",
    "version": 3
   },
   "file_extension": ".py",
   "mimetype": "text/x-python",
   "name": "python",
   "nbconvert_exporter": "python",
   "pygments_lexer": "ipython3",
   "version": "3.10.14"
  }
 },
 "nbformat": 4,
 "nbformat_minor": 5
}
