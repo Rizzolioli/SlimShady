{
 "cells": [
  {
   "cell_type": "code",
   "execution_count": 4,
   "id": "66bf5809",
   "metadata": {},
   "outputs": [
    {
     "ename": "SyntaxError",
     "evalue": "(unicode error) 'unicodeescape' codec can't decode bytes in position 2-3: truncated \\UXXXXXXXX escape (4235942255.py, line 2)",
     "output_type": "error",
     "traceback": [
      "\u001b[1;36m  Cell \u001b[1;32mIn[4], line 2\u001b[1;36m\u001b[0m\n\u001b[1;33m    os.chdir(\"C:\\Users\\lrosenfeld\\Desktop\\CODE\\SlimShady\\SlimShady\")\u001b[0m\n\u001b[1;37m                                                                   ^\u001b[0m\n\u001b[1;31mSyntaxError\u001b[0m\u001b[1;31m:\u001b[0m (unicode error) 'unicodeescape' codec can't decode bytes in position 2-3: truncated \\UXXXXXXXX escape\n"
     ]
    }
   ],
   "source": [
    "import os\n",
    "os.chdir(\"C:\\\\Users\\\\lrosenfeld\\\\Desktop\\\\CODE\\SlimShady\\SlimShady\")"
   ]
  },
  {
   "cell_type": "code",
   "execution_count": null,
   "id": "5839c76b",
   "metadata": {},
   "outputs": [],
   "source": [
    "def tensor_only():\n",
    "    \n",
    "    x, y = load_bioav(True)\n",
    "    return x"
   ]
  },
  {
   "cell_type": "code",
   "execution_count": null,
   "id": "9ef31597",
   "metadata": {},
   "outputs": [],
   "source": [
    "tensor_only()[1]"
   ]
  },
  {
   "cell_type": "code",
   "execution_count": null,
   "id": "0a72be53",
   "metadata": {},
   "outputs": [],
   "source": []
  }
 ],
 "metadata": {
  "kernelspec": {
   "display_name": "Python 3 (ipykernel)",
   "language": "python",
   "name": "python3"
  },
  "language_info": {
   "codemirror_mode": {
    "name": "ipython",
    "version": 3
   },
   "file_extension": ".py",
   "mimetype": "text/x-python",
   "name": "python",
   "nbconvert_exporter": "python",
   "pygments_lexer": "ipython3",
   "version": "3.11.5"
  }
 },
 "nbformat": 4,
 "nbformat_minor": 5
}
