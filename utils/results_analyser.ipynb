{
 "cells": [
  {
   "cell_type": "markdown",
   "id": "c50a5889",
   "metadata": {},
   "source": [
    "## Importing libraries"
   ]
  },
  {
   "cell_type": "code",
   "execution_count": 15,
   "id": "65ada172",
   "metadata": {},
   "outputs": [],
   "source": [
    "from visualizations import show_results, get_experiment_results, get_column_names, verify_integrity\n",
    "import pandas as pd"
   ]
  },
  {
   "cell_type": "markdown",
   "id": "8acd6a57",
   "metadata": {},
   "source": [
    "## setting up expriment related variables"
   ]
  },
  {
   "cell_type": "markdown",
   "id": "6397ef75",
   "metadata": {},
   "source": [
    "#### important variable names"
   ]
  },
  {
   "cell_type": "code",
   "execution_count": 4,
   "id": "25d327a1",
   "metadata": {},
   "outputs": [],
   "source": [
    "columns = [\"algo\", \"experiment_id\", \"dataset\", \"seed\", \"generation\", \"training_fitness\", \"timing\", \"pop_node_count\"]\n",
    "logger_name = \"diogo_slim_times_two_logger_.csv\"\n",
    "log_level = 1"
   ]
  },
  {
   "cell_type": "markdown",
   "id": "a750b35b",
   "metadata": {},
   "source": [
    "## Analysing the results"
   ]
  },
  {
   "cell_type": "code",
   "execution_count": 5,
   "id": "0c2cceeb",
   "metadata": {},
   "outputs": [
    {
     "name": "stderr",
     "output_type": "stream",
     "text": [
      "C:\\Users\\Utilizador\\Documents\\Doutoramento\\SlimShady\\utils\\visualizations.py:123: UserWarning: Matplotlib is currently using module://ipykernel.pylab.backend_inline, which is a non-GUI backend, so cannot show the figure.\n",
      "  fig.show()\n"
     ]
    },
    {
     "data": {
      "image/png": "[encoded data removed]",
      "text/plain": [
       "<Figure size 1008x360 with 2 Axes>"
      ]
     },
     "metadata": {
      "needs_background": "light"
     },
     "output_type": "display_data"
    }
   ],
   "source": [
    "show_results(x_var = \"generation\", y_var=\"training_fitness\", experiment_id=None, logger_name=logger_name,\n",
    "             log_level=1, dataset=\"resid_build_sale_price\")"
   ]
  },
  {
   "cell_type": "markdown",
   "id": "d4359efd",
   "metadata": {},
   "source": [
    "### extra code for later"
   ]
  },
  {
   "cell_type": "code",
   "execution_count": null,
   "id": "1098ca40",
   "metadata": {},
   "outputs": [],
   "source": [
    "# df[\"pop_fitnesses\"].map(lambda x: torch.tensor([float(val.split(\"tensor(\")[-1][:-1]) for val in x.split()]))"
   ]
  },
  {
   "cell_type": "code",
   "execution_count": null,
   "id": "98739f3a",
   "metadata": {},
   "outputs": [],
   "source": [
    "df_mul = get_experiment_results(experiment_id=None, logger_name=\"liah_mul_logger.csv\")\n",
    "df_mul = df_mul[df_mul.dataset == \"toxicity\"]\n",
    "\n",
    "df_s = get_experiment_results(experiment_id=None, logger_name=\"liah_sum_logger.csv\")\n",
    "df_s = df_s[df_s.dataset == \"toxicity\"]\n",
    "\n",
    "\n",
    "fari = get_experiment_results(experiment_id=None, logger_name=\"diogo_slim_plus_one_logger_.csv\")\n",
    "fari = fari[fari.dataset == \"toxicity\"]"
   ]
  },
  {
   "cell_type": "code",
   "execution_count": null,
   "id": "5202b21b",
   "metadata": {},
   "outputs": [],
   "source": [
    "farid = get_experiment_results(experiment_id=None, logger_name=\"davide_toxicity_+1.csv\")\n",
    "farid = farid[farid.dataset == \"toxicity\"]\n",
    "farid = farid[~farid.seed.isin(fari.seed.unique())]\n",
    "fari_final = pd.concat([fari, farid])\n",
    "diogo = get_experiment_results(experiment_id=None, logger_name=\"diogo_slim_logger.csv\")"
   ]
  },
  {
   "cell_type": "code",
   "execution_count": null,
   "id": "9e2a1a8f",
   "metadata": {},
   "outputs": [],
   "source": [
    "final = pd.concat([diogo, fari, df_mul, df_s])\n",
    "final['log_level'] = final.seed.map(lambda x: 1)\n",
    "final.to_csv(\"final.csv\", header=False,  index=False)"
   ]
  },
  {
   "cell_type": "code",
   "execution_count": 7,
   "id": "3ac8dc3a",
   "metadata": {},
   "outputs": [],
   "source": [
    "a = \"StandardGP,fa2d9f34-ea10-11ee-a0ac-18c04d6299ac,toxicity,0,0,2204.756591796875,0.17503881454467773,1554.0,1993.7264404296875,1\""
   ]
  },
  {
   "cell_type": "code",
   "execution_count": 10,
   "id": "780e2336",
   "metadata": {},
   "outputs": [
    {
     "data": {
      "text/plain": [
       "['StandardGP',\n",
       " 'fa2d9f34-ea10-11ee-a0ac-18c04d6299ac',\n",
       " 'toxicity',\n",
       " '0',\n",
       " '0',\n",
       " '2204.756591796875',\n",
       " '0.17503881454467773',\n",
       " '1554.0',\n",
       " '1993.7264404296875',\n",
       " '1']"
      ]
     },
     "execution_count": 10,
     "metadata": {},
     "output_type": "execute_result"
    }
   ],
   "source": [
    "a.split(',')"
   ]
  },
  {
   "cell_type": "code",
   "execution_count": 16,
   "id": "761d5a9a",
   "metadata": {},
   "outputs": [
    {
     "data": {
      "text/html": [
       "<div>\n",
       "<style scoped>\n",
       "    .dataframe tbody tr th:only-of-type {\n",
       "        vertical-align: middle;\n",
       "    }\n",
       "\n",
       "    .dataframe tbody tr th {\n",
       "        vertical-align: top;\n",
       "    }\n",
       "\n",
       "    .dataframe thead th {\n",
       "        text-align: right;\n",
       "    }\n",
       "</style>\n",
       "<table border=\"1\" class=\"dataframe\">\n",
       "  <thead>\n",
       "    <tr style=\"text-align: right;\">\n",
       "      <th></th>\n",
       "      <th>algo</th>\n",
       "      <th>experiment_id</th>\n",
       "      <th>dataset</th>\n",
       "      <th>seed</th>\n",
       "      <th>generation</th>\n",
       "      <th>training_fitness</th>\n",
       "      <th>timing</th>\n",
       "      <th>pop_node_count</th>\n",
       "      <th>test_fitness</th>\n",
       "      <th>nodes_count</th>\n",
       "    </tr>\n",
       "  </thead>\n",
       "  <tbody>\n",
       "    <tr>\n",
       "      <th>0</th>\n",
       "      <td>SlimGSGP_1_sum</td>\n",
       "      <td>5be597f6-ec31-11ee-b7b7-18c04d6299ac</td>\n",
       "      <td>toxicity</td>\n",
       "      <td>0</td>\n",
       "      <td>0</td>\n",
       "      <td>2204.756592</td>\n",
       "      <td>0.236009</td>\n",
       "      <td>1554.0</td>\n",
       "      <td>1993.726440</td>\n",
       "      <td>7</td>\n",
       "    </tr>\n",
       "    <tr>\n",
       "      <th>1</th>\n",
       "      <td>SlimGSGP_1_sum</td>\n",
       "      <td>5be597f6-ec31-11ee-b7b7-18c04d6299ac</td>\n",
       "      <td>toxicity</td>\n",
       "      <td>0</td>\n",
       "      <td>1</td>\n",
       "      <td>2204.747314</td>\n",
       "      <td>0.208035</td>\n",
       "      <td>2989.0</td>\n",
       "      <td>1993.716309</td>\n",
       "      <td>36</td>\n",
       "    </tr>\n",
       "    <tr>\n",
       "      <th>2</th>\n",
       "      <td>SlimGSGP_1_sum</td>\n",
       "      <td>5be597f6-ec31-11ee-b7b7-18c04d6299ac</td>\n",
       "      <td>toxicity</td>\n",
       "      <td>0</td>\n",
       "      <td>2</td>\n",
       "      <td>2204.747314</td>\n",
       "      <td>0.066448</td>\n",
       "      <td>1415.0</td>\n",
       "      <td>1993.716309</td>\n",
       "      <td>36</td>\n",
       "    </tr>\n",
       "    <tr>\n",
       "      <th>3</th>\n",
       "      <td>SlimGSGP_1_sum</td>\n",
       "      <td>5be597f6-ec31-11ee-b7b7-18c04d6299ac</td>\n",
       "      <td>toxicity</td>\n",
       "      <td>0</td>\n",
       "      <td>3</td>\n",
       "      <td>2204.747314</td>\n",
       "      <td>0.054498</td>\n",
       "      <td>2546.0</td>\n",
       "      <td>1993.716309</td>\n",
       "      <td>36</td>\n",
       "    </tr>\n",
       "    <tr>\n",
       "      <th>4</th>\n",
       "      <td>SlimGSGP_1_sum</td>\n",
       "      <td>5be597f6-ec31-11ee-b7b7-18c04d6299ac</td>\n",
       "      <td>toxicity</td>\n",
       "      <td>0</td>\n",
       "      <td>4</td>\n",
       "      <td>2204.747314</td>\n",
       "      <td>0.048011</td>\n",
       "      <td>1163.0</td>\n",
       "      <td>1993.716309</td>\n",
       "      <td>36</td>\n",
       "    </tr>\n",
       "    <tr>\n",
       "      <th>...</th>\n",
       "      <td>...</td>\n",
       "      <td>...</td>\n",
       "      <td>...</td>\n",
       "      <td>...</td>\n",
       "      <td>...</td>\n",
       "      <td>...</td>\n",
       "      <td>...</td>\n",
       "      <td>...</td>\n",
       "      <td>...</td>\n",
       "      <td>...</td>\n",
       "    </tr>\n",
       "    <tr>\n",
       "      <th>14002</th>\n",
       "      <td>SlimGSGP_1_sum</td>\n",
       "      <td>5be597f6-ec31-11ee-b7b7-18c04d6299ac</td>\n",
       "      <td>toxicity</td>\n",
       "      <td>6</td>\n",
       "      <td>1996</td>\n",
       "      <td>2419.985107</td>\n",
       "      <td>0.983222</td>\n",
       "      <td>559405.0</td>\n",
       "      <td>2356.051025</td>\n",
       "      <td>5719</td>\n",
       "    </tr>\n",
       "    <tr>\n",
       "      <th>14003</th>\n",
       "      <td>SlimGSGP_1_sum</td>\n",
       "      <td>5be597f6-ec31-11ee-b7b7-18c04d6299ac</td>\n",
       "      <td>toxicity</td>\n",
       "      <td>6</td>\n",
       "      <td>1997</td>\n",
       "      <td>2419.985107</td>\n",
       "      <td>0.962218</td>\n",
       "      <td>558540.0</td>\n",
       "      <td>2356.051025</td>\n",
       "      <td>5719</td>\n",
       "    </tr>\n",
       "    <tr>\n",
       "      <th>14004</th>\n",
       "      <td>SlimGSGP_1_sum</td>\n",
       "      <td>5be597f6-ec31-11ee-b7b7-18c04d6299ac</td>\n",
       "      <td>toxicity</td>\n",
       "      <td>6</td>\n",
       "      <td>1998</td>\n",
       "      <td>2419.980225</td>\n",
       "      <td>0.974219</td>\n",
       "      <td>559107.0</td>\n",
       "      <td>2356.046875</td>\n",
       "      <td>5732</td>\n",
       "    </tr>\n",
       "    <tr>\n",
       "      <th>14005</th>\n",
       "      <td>SlimGSGP_1_sum</td>\n",
       "      <td>5be597f6-ec31-11ee-b7b7-18c04d6299ac</td>\n",
       "      <td>toxicity</td>\n",
       "      <td>6</td>\n",
       "      <td>1999</td>\n",
       "      <td>2419.980225</td>\n",
       "      <td>0.990223</td>\n",
       "      <td>559497.0</td>\n",
       "      <td>2356.046875</td>\n",
       "      <td>5732</td>\n",
       "    </tr>\n",
       "    <tr>\n",
       "      <th>14006</th>\n",
       "      <td>SlimGSGP_1_sum</td>\n",
       "      <td>5be597f6-ec31-11ee-b7b7-18c04d6299ac</td>\n",
       "      <td>toxicity</td>\n",
       "      <td>6</td>\n",
       "      <td>2000</td>\n",
       "      <td>2419.980225</td>\n",
       "      <td>0.991300</td>\n",
       "      <td>559749.0</td>\n",
       "      <td>2356.046875</td>\n",
       "      <td>5732</td>\n",
       "    </tr>\n",
       "  </tbody>\n",
       "</table>\n",
       "<p>14007 rows × 10 columns</p>\n",
       "</div>"
      ],
      "text/plain": [
       "                 algo                         experiment_id   dataset  seed  \\\n",
       "0      SlimGSGP_1_sum  5be597f6-ec31-11ee-b7b7-18c04d6299ac  toxicity     0   \n",
       "1      SlimGSGP_1_sum  5be597f6-ec31-11ee-b7b7-18c04d6299ac  toxicity     0   \n",
       "2      SlimGSGP_1_sum  5be597f6-ec31-11ee-b7b7-18c04d6299ac  toxicity     0   \n",
       "3      SlimGSGP_1_sum  5be597f6-ec31-11ee-b7b7-18c04d6299ac  toxicity     0   \n",
       "4      SlimGSGP_1_sum  5be597f6-ec31-11ee-b7b7-18c04d6299ac  toxicity     0   \n",
       "...               ...                                   ...       ...   ...   \n",
       "14002  SlimGSGP_1_sum  5be597f6-ec31-11ee-b7b7-18c04d6299ac  toxicity     6   \n",
       "14003  SlimGSGP_1_sum  5be597f6-ec31-11ee-b7b7-18c04d6299ac  toxicity     6   \n",
       "14004  SlimGSGP_1_sum  5be597f6-ec31-11ee-b7b7-18c04d6299ac  toxicity     6   \n",
       "14005  SlimGSGP_1_sum  5be597f6-ec31-11ee-b7b7-18c04d6299ac  toxicity     6   \n",
       "14006  SlimGSGP_1_sum  5be597f6-ec31-11ee-b7b7-18c04d6299ac  toxicity     6   \n",
       "\n",
       "       generation  training_fitness    timing  pop_node_count  test_fitness  \\\n",
       "0               0       2204.756592  0.236009          1554.0   1993.726440   \n",
       "1               1       2204.747314  0.208035          2989.0   1993.716309   \n",
       "2               2       2204.747314  0.066448          1415.0   1993.716309   \n",
       "3               3       2204.747314  0.054498          2546.0   1993.716309   \n",
       "4               4       2204.747314  0.048011          1163.0   1993.716309   \n",
       "...           ...               ...       ...             ...           ...   \n",
       "14002        1996       2419.985107  0.983222        559405.0   2356.051025   \n",
       "14003        1997       2419.985107  0.962218        558540.0   2356.051025   \n",
       "14004        1998       2419.980225  0.974219        559107.0   2356.046875   \n",
       "14005        1999       2419.980225  0.990223        559497.0   2356.046875   \n",
       "14006        2000       2419.980225  0.991300        559749.0   2356.046875   \n",
       "\n",
       "       nodes_count  \n",
       "0                7  \n",
       "1               36  \n",
       "2               36  \n",
       "3               36  \n",
       "4               36  \n",
       "...            ...  \n",
       "14002         5719  \n",
       "14003         5719  \n",
       "14004         5732  \n",
       "14005         5732  \n",
       "14006         5732  \n",
       "\n",
       "[14007 rows x 10 columns]"
      ]
     },
     "execution_count": 16,
     "metadata": {},
     "output_type": "execute_result"
    }
   ],
   "source": [
    "fari"
   ]
  },
  {
   "cell_type": "code",
   "execution_count": 20,
   "id": "0baa1088",
   "metadata": {},
   "outputs": [
    {
     "data": {
      "text/plain": [
       "-0.4598"
      ]
     },
     "execution_count": 20,
     "metadata": {},
     "output_type": "execute_result"
    }
   ],
   "source": [
    "sum([0.0569, -0.2475,  0.0737, -0.3429])"
   ]
  },
  {
   "cell_type": "code",
   "execution_count": 21,
   "id": "9ff8cef0",
   "metadata": {},
   "outputs": [],
   "source": [
    "import torch"
   ]
  },
  {
   "cell_type": "code",
   "execution_count": 22,
   "id": "c210ceff",
   "metadata": {},
   "outputs": [],
   "source": [
    "a = torch.randn(4, 4)"
   ]
  },
  {
   "cell_type": "code",
   "execution_count": 23,
   "id": "f0e1abe7",
   "metadata": {},
   "outputs": [],
   "source": [
    "b =  torch.randn(4, 4)"
   ]
  },
  {
   "cell_type": "code",
   "execution_count": 38,
   "id": "35a8b570",
   "metadata": {},
   "outputs": [],
   "source": [
    "a = torch.tensor([10, 20, 30])\n",
    "b = torch.tensor([1, 2, 3])"
   ]
  },
  {
   "cell_type": "code",
   "execution_count": 39,
   "id": "3c0f05d0",
   "metadata": {},
   "outputs": [],
   "source": [
    "c= torch.stack([a, b])"
   ]
  },
  {
   "cell_type": "code",
   "execution_count": 33,
   "id": "66ace277",
   "metadata": {},
   "outputs": [
    {
     "data": {
      "text/plain": [
       "tensor([60,  6])"
      ]
     },
     "execution_count": 33,
     "metadata": {},
     "output_type": "execute_result"
    }
   ],
   "source": [
    "torch.sum(c, dim=1)"
   ]
  },
  {
   "cell_type": "code",
   "execution_count": 40,
   "id": "120a239e",
   "metadata": {},
   "outputs": [
    {
     "data": {
      "text/plain": [
       "tensor([ 4.5000,  9.0000, 13.5000])"
      ]
     },
     "execution_count": 40,
     "metadata": {},
     "output_type": "execute_result"
    }
   ],
   "source": [
    "torch.mul(0.5, torch.sub(a, b))"
   ]
  },
  {
   "cell_type": "code",
   "execution_count": 14,
   "id": "f3c8a3dd",
   "metadata": {},
   "outputs": [
    {
     "data": {
      "text/html": [
       "<div>\n",
       "<style scoped>\n",
       "    .dataframe tbody tr th:only-of-type {\n",
       "        vertical-align: middle;\n",
       "    }\n",
       "\n",
       "    .dataframe tbody tr th {\n",
       "        vertical-align: top;\n",
       "    }\n",
       "\n",
       "    .dataframe thead th {\n",
       "        text-align: right;\n",
       "    }\n",
       "</style>\n",
       "<table border=\"1\" class=\"dataframe\">\n",
       "  <thead>\n",
       "    <tr style=\"text-align: right;\">\n",
       "      <th></th>\n",
       "      <th>algo</th>\n",
       "      <th>experiment_id</th>\n",
       "      <th>dataset</th>\n",
       "      <th>seed</th>\n",
       "      <th>generation</th>\n",
       "      <th>training_fitness</th>\n",
       "      <th>timing</th>\n",
       "      <th>pop_node_count</th>\n",
       "      <th>test_fitness</th>\n",
       "      <th>nodes_count</th>\n",
       "      <th>elite_size</th>\n",
       "    </tr>\n",
       "  </thead>\n",
       "  <tbody>\n",
       "    <tr>\n",
       "      <th>0</th>\n",
       "      <td>SlimGSGP_2_mul</td>\n",
       "      <td>5a7b3632-ed2d-11ee-a59b-18c04d6299ac</td>\n",
       "      <td>resid_build_sale_price</td>\n",
       "      <td>0</td>\n",
       "      <td>0</td>\n",
       "      <td>209.060272</td>\n",
       "      <td>0.105604</td>\n",
       "      <td>1554.0</td>\n",
       "      <td>224.496796</td>\n",
       "      <td>3</td>\n",
       "      <td>1</td>\n",
       "    </tr>\n",
       "    <tr>\n",
       "      <th>1</th>\n",
       "      <td>SlimGSGP_2_mul</td>\n",
       "      <td>5a7b3632-ed2d-11ee-a59b-18c04d6299ac</td>\n",
       "      <td>resid_build_sale_price</td>\n",
       "      <td>0</td>\n",
       "      <td>1</td>\n",
       "      <td>188.893036</td>\n",
       "      <td>0.206064</td>\n",
       "      <td>3997.0</td>\n",
       "      <td>209.759094</td>\n",
       "      <td>32</td>\n",
       "      <td>1</td>\n",
       "    </tr>\n",
       "    <tr>\n",
       "      <th>2</th>\n",
       "      <td>SlimGSGP_2_mul</td>\n",
       "      <td>5a7b3632-ed2d-11ee-a59b-18c04d6299ac</td>\n",
       "      <td>resid_build_sale_price</td>\n",
       "      <td>0</td>\n",
       "      <td>2</td>\n",
       "      <td>188.893036</td>\n",
       "      <td>0.087026</td>\n",
       "      <td>2479.0</td>\n",
       "      <td>209.759094</td>\n",
       "      <td>32</td>\n",
       "      <td>1</td>\n",
       "    </tr>\n",
       "    <tr>\n",
       "      <th>3</th>\n",
       "      <td>SlimGSGP_2_mul</td>\n",
       "      <td>5a7b3632-ed2d-11ee-a59b-18c04d6299ac</td>\n",
       "      <td>resid_build_sale_price</td>\n",
       "      <td>0</td>\n",
       "      <td>3</td>\n",
       "      <td>188.893036</td>\n",
       "      <td>0.082018</td>\n",
       "      <td>3811.0</td>\n",
       "      <td>209.759094</td>\n",
       "      <td>32</td>\n",
       "      <td>1</td>\n",
       "    </tr>\n",
       "    <tr>\n",
       "      <th>4</th>\n",
       "      <td>SlimGSGP_2_mul</td>\n",
       "      <td>5a7b3632-ed2d-11ee-a59b-18c04d6299ac</td>\n",
       "      <td>resid_build_sale_price</td>\n",
       "      <td>0</td>\n",
       "      <td>4</td>\n",
       "      <td>188.893036</td>\n",
       "      <td>0.068020</td>\n",
       "      <td>2410.0</td>\n",
       "      <td>209.759094</td>\n",
       "      <td>32</td>\n",
       "      <td>1</td>\n",
       "    </tr>\n",
       "  </tbody>\n",
       "</table>\n",
       "</div>"
      ],
      "text/plain": [
       "             algo                         experiment_id  \\\n",
       "0  SlimGSGP_2_mul  5a7b3632-ed2d-11ee-a59b-18c04d6299ac   \n",
       "1  SlimGSGP_2_mul  5a7b3632-ed2d-11ee-a59b-18c04d6299ac   \n",
       "2  SlimGSGP_2_mul  5a7b3632-ed2d-11ee-a59b-18c04d6299ac   \n",
       "3  SlimGSGP_2_mul  5a7b3632-ed2d-11ee-a59b-18c04d6299ac   \n",
       "4  SlimGSGP_2_mul  5a7b3632-ed2d-11ee-a59b-18c04d6299ac   \n",
       "\n",
       "                  dataset  seed  generation  training_fitness    timing  \\\n",
       "0  resid_build_sale_price     0           0        209.060272  0.105604   \n",
       "1  resid_build_sale_price     0           1        188.893036  0.206064   \n",
       "2  resid_build_sale_price     0           2        188.893036  0.087026   \n",
       "3  resid_build_sale_price     0           3        188.893036  0.082018   \n",
       "4  resid_build_sale_price     0           4        188.893036  0.068020   \n",
       "\n",
       "   pop_node_count  test_fitness  nodes_count  elite_size  \n",
       "0          1554.0    224.496796            3           1  \n",
       "1          3997.0    209.759094           32           1  \n",
       "2          2479.0    209.759094           32           1  \n",
       "3          3811.0    209.759094           32           1  \n",
       "4          2410.0    209.759094           32           1  "
      ]
     },
     "execution_count": 14,
     "metadata": {},
     "output_type": "execute_result"
    }
   ],
   "source": [
    "df = pd.read_csv(\"../main/log/diogo_slim_times_two_logger_.csv\", header=None, \n",
    "                 names = ['algo', 'experiment_id','dataset','seed', 'generation','training_fitness','timing','pop_node_count','test_fitness',\n",
    "                          'nodes_count', 'elite_size'])\n",
    "df.head()"
   ]
  },
  {
   "cell_type": "code",
   "execution_count": 16,
   "id": "eb456c1a",
   "metadata": {},
   "outputs": [
    {
     "name": "stdout",
     "output_type": "stream",
     "text": [
      "for algo SlimGSGP_2_mul and seed 0 we have 2001\n",
      "for algo SlimGSGP_2_mul and seed 1 we have 2001\n",
      "for algo SlimGSGP_2_mul and seed 2 we have 2001\n",
      "for algo SlimGSGP_2_mul and seed 3 we have 2001\n",
      "for algo SlimGSGP_2_mul and seed 4 we have 2001\n",
      "for algo SlimGSGP_2_mul and seed 5 we have 2001\n",
      "for algo SlimGSGP_2_mul and seed 6 we have 2001\n"
     ]
    }
   ],
   "source": [
    "verify_integrity(df)"
   ]
  }
 ],
 "metadata": {
  "kernelspec": {
   "display_name": "Python 3",
   "language": "python",
   "name": "python3"
  },
  "language_info": {
   "codemirror_mode": {
    "name": "ipython",
    "version": 3
   },
   "file_extension": ".py",
   "mimetype": "text/x-python",
   "name": "python",
   "nbconvert_exporter": "python",
   "pygments_lexer": "ipython3",
   "version": "3.8.8"
  }
 },
 "nbformat": 4,
 "nbformat_minor": 5
}
